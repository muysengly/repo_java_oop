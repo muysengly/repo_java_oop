{
 "cells": [
  {
   "cell_type": "raw",
   "metadata": {
    "vscode": {
     "languageId": "raw"
    }
   },
   "source": [
    "---\n",
    "marp: true\n",
    "theme: default # gaia, default, uncover,\n",
    "class: center # lead, center, middle\n",
    "header: \"Object-Oriented Programming with Java\"\n",
    "footer: \"MUY Sengly\"\n",
    "paginate: true\n",
    "size: 4:3 # 4:3, 16:9, 16:10, 2.35:1, 1.85:1\n",
    "style: |\n",
    "  section { font-size: 20px; }\n",
    "  h1 { font-size: 60px; }\n",
    "  h2 { font-size: 50px; }\n",
    "  h3 { font-size: 40px; }\n",
    "  h4 { font-size: 30px; }\n",
    "  h5 { font-size: 25px; }\n",
    "  h6 { font-size: 20px; }\n",
    "\n",
    "# font family\n",
    "\n",
    "#   p { font-size: 20px; }\n",
    "#   img { width: 70%; }\n",
    "\n",
    "# margin: 0\n",
    "math: mathjax\n",
    "---"
   ]
  },
  {
   "cell_type": "raw",
   "metadata": {
    "vscode": {
     "languageId": "raw"
    }
   },
   "source": [
    "<!-- _backgroundColor: black -->\n",
    "<!-- _color: white -->"
   ]
  },
  {
   "cell_type": "raw",
   "metadata": {
    "vscode": {
     "languageId": "raw"
    }
   },
   "source": [
    "\\n#### \\*\\*(.*?)\\*\\*"
   ]
  }
 ],
 "metadata": {
  "language_info": {
   "name": "python"
  }
 },
 "nbformat": 4,
 "nbformat_minor": 2
}
