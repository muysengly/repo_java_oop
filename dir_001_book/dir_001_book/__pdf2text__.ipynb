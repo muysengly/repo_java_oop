{
 "cells": [
  {
   "cell_type": "markdown",
   "metadata": {},
   "source": [
    "---\n",
    "\n",
    "## Extract text from a PDF"
   ]
  },
  {
   "cell_type": "code",
   "execution_count": 38,
   "metadata": {},
   "outputs": [],
   "source": [
    "import pymupdf\n",
    "\n",
    "NAME = \"./chapter_017.pdf\"\n",
    "\n",
    "doc = pymupdf.open(f\"{NAME[:-4]}.pdf\") # open a document\n",
    "out = open(f\"{NAME[:-4]}.md\", \"wb\") # create a text output\n",
    "for page in doc: # iterate the document pages\n",
    "    text = page.get_text().encode(\"utf8\") # get plain text (is in UTF-8)\n",
    "    out.write(text) # write text of page\n",
    "    out.write(bytes((12,))) # write page delimiter (form feed 0x0C)\n",
    "out.close()"
   ]
  },
  {
   "cell_type": "markdown",
   "metadata": {},
   "source": [
    "---\n",
    "\n",
    "## Extract images from a PDF"
   ]
  },
  {
   "cell_type": "code",
   "execution_count": 22,
   "metadata": {},
   "outputs": [
    {
     "name": "stdout",
     "output_type": "stream",
     "text": [
      "Found 2 images on page 0\n",
      "No images found on page 1\n",
      "No images found on page 2\n",
      "No images found on page 3\n",
      "No images found on page 4\n",
      "No images found on page 5\n",
      "No images found on page 6\n",
      "No images found on page 7\n",
      "No images found on page 8\n",
      "No images found on page 9\n",
      "No images found on page 10\n",
      "No images found on page 11\n",
      "No images found on page 12\n",
      "No images found on page 13\n",
      "No images found on page 14\n",
      "No images found on page 15\n",
      "No images found on page 16\n",
      "No images found on page 17\n",
      "No images found on page 18\n",
      "No images found on page 19\n",
      "No images found on page 20\n",
      "No images found on page 21\n",
      "No images found on page 22\n",
      "No images found on page 23\n",
      "No images found on page 24\n",
      "No images found on page 25\n",
      "No images found on page 26\n",
      "No images found on page 27\n",
      "No images found on page 28\n",
      "No images found on page 29\n",
      "No images found on page 30\n",
      "No images found on page 31\n",
      "No images found on page 32\n",
      "No images found on page 33\n",
      "No images found on page 34\n",
      "No images found on page 35\n",
      "No images found on page 36\n",
      "No images found on page 37\n",
      "No images found on page 38\n",
      "No images found on page 39\n",
      "No images found on page 40\n",
      "No images found on page 41\n",
      "No images found on page 42\n",
      "No images found on page 43\n",
      "No images found on page 44\n",
      "No images found on page 45\n"
     ]
    }
   ],
   "source": [
    "import pymupdf\n",
    "\n",
    "NAME = \"./chapter_005.pdf\"\n",
    "\n",
    "doc = pymupdf.open(f\"{NAME[:-4]}.pdf\") # open a document\n",
    "\n",
    "for page_index in range(len(doc)): # iterate over pdf pages\n",
    "    page = doc[page_index] # get the page\n",
    "    image_list = page.get_images()\n",
    "\n",
    "    # print the number of images found on the page\n",
    "    if image_list:\n",
    "        print(f\"Found {len(image_list)} images on page {page_index}\")\n",
    "    else:\n",
    "        print(\"No images found on page\", page_index)\n",
    "\n",
    "    for image_index, img in enumerate(image_list, start=1): # enumerate the image list\n",
    "        xref = img[0] # get the XREF of the image\n",
    "        pix = pymupdf.Pixmap(doc, xref) # create a Pixmap\n",
    "\n",
    "        if pix.n - pix.alpha > 3: # CMYK: convert to RGB first\n",
    "            pix = pymupdf.Pixmap(pymupdf.csRGB, pix)\n",
    "\n",
    "        pix.save(f\"./images/{NAME[:-4]}_page{page_index}_image{image_index}.png\" ) # save the image as png\n",
    "        pix = None"
   ]
  },
  {
   "cell_type": "markdown",
   "metadata": {},
   "source": [
    "---\n",
    "\n",
    "## Extract Tables from a PDF"
   ]
  },
  {
   "cell_type": "code",
   "execution_count": 13,
   "metadata": {},
   "outputs": [
    {
     "name": "stdout",
     "output_type": "stream",
     "text": [
      "0 found on page 0 of ./chapter_012.pdf\n"
     ]
    }
   ],
   "source": [
    "import pymupdf\n",
    "from pprint import pprint\n",
    "\n",
    "doc = pymupdf.open(\"./chapter_012.pdf\") # open document\n",
    "page = doc[0] # get the 1st page of the document\n",
    "tabs = page.find_tables() # locate and extract any tables on page\n",
    "print(f\"{len(tabs.tables)} found on {page}\") # display number of found tables\n",
    "\n",
    "if tabs.tables:  # at least one table found?\n",
    "   pprint(tabs[0].extract())  # print content of first table"
   ]
  }
 ],
 "metadata": {
  "kernelspec": {
   "display_name": "base",
   "language": "python",
   "name": "python3"
  },
  "language_info": {
   "codemirror_mode": {
    "name": "ipython",
    "version": 3
   },
   "file_extension": ".py",
   "mimetype": "text/x-python",
   "name": "python",
   "nbconvert_exporter": "python",
   "pygments_lexer": "ipython3",
   "version": "3.12.7"
  }
 },
 "nbformat": 4,
 "nbformat_minor": 2
}
